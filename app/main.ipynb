{
 "cells": [
  {
   "cell_type": "code",
   "execution_count": 8,
   "metadata": {},
   "outputs": [],
   "source": [
    "import numpy as np \n",
    "import pandas as pd \n",
    "import seaborn as sns\n",
    "import matplotlib.pyplot as plt \n",
    "import skvideo.io  \n",
    "import os \n",
    "import cv2\n",
    "\n",
    "from sklearn.model_selection import train_test_split\n",
    "from sklearn.metrics import confusion_matrix\n",
    "\n",
    "import io\n",
    "import imageio\n",
    "import ipywidgets\n",
    "import tensorflow as tf\n",
    "from tensorflow import keras\n",
    "from tensorflow.keras import layers\n",
    "from keras import backend as K"
   ]
  },
  {
   "cell_type": "markdown",
   "metadata": {},
   "source": [
    "Video yükleme, yeniden boyutlandırma ve kırpma"
   ]
  },
  {
   "cell_type": "code",
   "execution_count": 9,
   "metadata": {},
   "outputs": [],
   "source": [
    "def frame_crop_center(video,cropf):\n",
    "    f,_,_,_ = video.shape\n",
    "    startf = f//2 - cropf//2\n",
    "    return video[startf:startf+cropf, :, :, :]\n",
    "\n",
    "fights=[]\n",
    "nofights=[]\n",
    "\n",
    "surv_fights=[]\n",
    "surv_no_fights=[]\n",
    "\n",
    "video_dims = []\n",
    "\n",
    "####### Fight data\n",
    "for filename in os.listdir('C:/Users/Furka/Desktop/Video-based Fight Detection using Deep Learning/archive/Peliculas/fights'):\n",
    "    f = os.path.join(\"C:/Users/Furka/Desktop/Video-based Fight Detection using Deep Learning/archive/Peliculas/fights\", filename)\n",
    "\n",
    "    video = skvideo.io.vread(f)\n",
    "    video_dims.append(video.shape)\n",
    "    L=[]\n",
    "    \n",
    "\n",
    "    for i in range(video.shape[0]):\n",
    "      frame = cv2.resize(video[i], (128,128), interpolation=cv2.INTER_CUBIC)\n",
    "      L.append(frame)\n",
    "\n",
    "    video = np.asarray(L)\n",
    "    \n",
    "    video = frame_crop_center(video, 42)\n",
    "    \n",
    "    fights.append(video)\n",
    "\n",
    "for filename in os.listdir(\"C:/Users/Furka/Desktop/Video-based Fight Detection using Deep Learning/fight-detection-surv-dataset/fight\"):\n",
    "    f = os.path.join(\"C:/Users/Furka/Desktop/Video-based Fight Detection using Deep Learning/fight-detection-surv-dataset/fight\", filename)\n",
    "\n",
    "    video = skvideo.io.vread(f)\n",
    "    video_dims.append(video.shape)\n",
    "    \n",
    "    L=[]\n",
    "    for i in range(video.shape[0]):\n",
    "      frame = cv2.resize(video[i], (128,128), interpolation=cv2.INTER_CUBIC)\n",
    "      L.append(frame)\n",
    "\n",
    "    video = np.asarray(L)\n",
    "    video = frame_crop_center(video, 42)\n",
    "    \n",
    "    surv_fights.append(video)\n",
    "\n",
    "####### Non Fight data\n",
    "for filename in os.listdir('C:/Users/Furka/Desktop/Video-based Fight Detection using Deep Learning/archive/Peliculas/noFights'):\n",
    "    f = os.path.join('C:/Users/Furka/Desktop/Video-based Fight Detection using Deep Learning/archive/Peliculas/noFights', filename)\n",
    "\n",
    "    video = skvideo.io.vread(f)\n",
    "    video_dims.append(video.shape)\n",
    "    \n",
    "    L=[]\n",
    "    for i in range(video.shape[0]):\n",
    "      frame = cv2.resize(video[i], (128,128), interpolation=cv2.INTER_CUBIC)\n",
    "      L.append(frame)\n",
    "\n",
    "    video = np.asarray(L)\n",
    "    video = frame_crop_center(video, 42)\n",
    "\n",
    "    nofights.append(video)\n",
    "\n",
    "for filename in os.listdir('C:/Users/Furka/Desktop/Video-based Fight Detection using Deep Learning/fight-detection-surv-dataset/nofight'):\n",
    "    f = os.path.join('C:/Users/Furka/Desktop/Video-based Fight Detection using Deep Learning/fight-detection-surv-dataset/nofight', filename)\n",
    "\n",
    "    video = skvideo.io.vread(f) \n",
    "    video_dims.append(video.shape)\n",
    "\n",
    "    L=[]\n",
    "    for i in range(video.shape[0]):\n",
    "      frame = cv2.resize(video[i], (128,128), interpolation=cv2.INTER_CUBIC)\n",
    "      L.append(frame)\n",
    "\n",
    "    video = np.asarray(L)\n",
    "    video = frame_crop_center(video, 42)\n",
    "\n",
    "    surv_no_fights.append(video)"
   ]
  },
  {
   "cell_type": "markdown",
   "metadata": {},
   "source": [
    "Video Süresi ve boyut analizi kontrol et."
   ]
  },
  {
   "cell_type": "code",
   "execution_count": 10,
   "metadata": {},
   "outputs": [
    {
     "data": {
      "text/html": [
       "<div>\n",
       "<style scoped>\n",
       "    .dataframe tbody tr th:only-of-type {\n",
       "        vertical-align: middle;\n",
       "    }\n",
       "\n",
       "    .dataframe tbody tr th {\n",
       "        vertical-align: top;\n",
       "    }\n",
       "\n",
       "    .dataframe thead th {\n",
       "        text-align: right;\n",
       "    }\n",
       "</style>\n",
       "<table border=\"1\" class=\"dataframe\">\n",
       "  <thead>\n",
       "    <tr style=\"text-align: right;\">\n",
       "      <th></th>\n",
       "      <th>frame_length</th>\n",
       "      <th>height</th>\n",
       "      <th>width</th>\n",
       "      <th>channels</th>\n",
       "    </tr>\n",
       "  </thead>\n",
       "  <tbody>\n",
       "    <tr>\n",
       "      <th>count</th>\n",
       "      <td>501.000000</td>\n",
       "      <td>501.000000</td>\n",
       "      <td>501.000000</td>\n",
       "      <td>501.0</td>\n",
       "    </tr>\n",
       "    <tr>\n",
       "      <th>mean</th>\n",
       "      <td>53.814371</td>\n",
       "      <td>486.483034</td>\n",
       "      <td>761.321357</td>\n",
       "      <td>3.0</td>\n",
       "    </tr>\n",
       "    <tr>\n",
       "      <th>std</th>\n",
       "      <td>13.348538</td>\n",
       "      <td>159.514107</td>\n",
       "      <td>298.154756</td>\n",
       "      <td>0.0</td>\n",
       "    </tr>\n",
       "    <tr>\n",
       "      <th>min</th>\n",
       "      <td>20.000000</td>\n",
       "      <td>216.000000</td>\n",
       "      <td>320.000000</td>\n",
       "      <td>3.0</td>\n",
       "    </tr>\n",
       "    <tr>\n",
       "      <th>25%</th>\n",
       "      <td>50.000000</td>\n",
       "      <td>360.000000</td>\n",
       "      <td>640.000000</td>\n",
       "      <td>3.0</td>\n",
       "    </tr>\n",
       "    <tr>\n",
       "      <th>50%</th>\n",
       "      <td>50.000000</td>\n",
       "      <td>480.000000</td>\n",
       "      <td>720.000000</td>\n",
       "      <td>3.0</td>\n",
       "    </tr>\n",
       "    <tr>\n",
       "      <th>75%</th>\n",
       "      <td>60.000000</td>\n",
       "      <td>576.000000</td>\n",
       "      <td>720.000000</td>\n",
       "      <td>3.0</td>\n",
       "    </tr>\n",
       "    <tr>\n",
       "      <th>max</th>\n",
       "      <td>142.000000</td>\n",
       "      <td>1080.000000</td>\n",
       "      <td>1920.000000</td>\n",
       "      <td>3.0</td>\n",
       "    </tr>\n",
       "  </tbody>\n",
       "</table>\n",
       "</div>"
      ],
      "text/plain": [
       "       frame_length       height        width  channels\n",
       "count    501.000000   501.000000   501.000000     501.0\n",
       "mean      53.814371   486.483034   761.321357       3.0\n",
       "std       13.348538   159.514107   298.154756       0.0\n",
       "min       20.000000   216.000000   320.000000       3.0\n",
       "25%       50.000000   360.000000   640.000000       3.0\n",
       "50%       50.000000   480.000000   720.000000       3.0\n",
       "75%       60.000000   576.000000   720.000000       3.0\n",
       "max      142.000000  1080.000000  1920.000000       3.0"
      ]
     },
     "execution_count": 10,
     "metadata": {},
     "output_type": "execute_result"
    }
   ],
   "source": [
    "data= pd.DataFrame(video_dims, columns=['frame_length', 'height', 'width', 'channels'])\n",
    "data.describe()"
   ]
  },
  {
   "cell_type": "markdown",
   "metadata": {},
   "source": [
    "Verileri topla, etiket ata."
   ]
  },
  {
   "cell_type": "code",
   "execution_count": 11,
   "metadata": {},
   "outputs": [],
   "source": [
    "surv_fights = [video for video in surv_fights if video.shape[0] == 42]\n",
    "surv_no_fights = [video for video in surv_no_fights if video.shape[0] == 42]\n",
    "\n",
    "videos = fights + surv_fights + nofights + surv_no_fights\n",
    "videos = np.asarray(videos)\n",
    "\n",
    "labels = np.concatenate([np.ones(len(fights)+len(surv_fights)) , np.zeros(len(nofights)+len(surv_no_fights))])\n",
    "\n",
    "del fights\n",
    "del nofights\n",
    "del surv_fights\n",
    "del surv_no_fights"
   ]
  },
  {
   "cell_type": "markdown",
   "metadata": {},
   "source": [
    "Eğitim - test - val"
   ]
  },
  {
   "cell_type": "code",
   "execution_count": 12,
   "metadata": {},
   "outputs": [
    {
     "name": "stdout",
     "output_type": "stream",
     "text": [
      "(331, 42, 128, 128, 3)\n",
      "(37, 42, 128, 128, 3)\n",
      "(93, 42, 128, 128, 3)\n"
     ]
    }
   ],
   "source": [
    "X_train, X_test, y_train, y_test = train_test_split(videos, labels, test_size=0.2, random_state=2334)\n",
    "X_train, X_val, y_train, y_val = train_test_split(X_train, y_train, test_size=0.1, random_state=124567)\n",
    "\n",
    "print(X_train.shape)\n",
    "print(X_val.shape)\n",
    "print(X_test.shape)"
   ]
  },
  {
   "cell_type": "markdown",
   "metadata": {},
   "source": [
    "Vivit hiperparametre verileri ayarla."
   ]
  },
  {
   "cell_type": "code",
   "execution_count": 13,
   "metadata": {},
   "outputs": [],
   "source": [
    "# Rastgelelik\n",
    "SEED = 77\n",
    "os.environ[\"TF_CUDNN_DETERMINISTIC\"] = \"1\"\n",
    "tf.random.set_seed(SEED)\n",
    "\n",
    "# DATA\n",
    "DATASET_NAME = \"fight/nofights\"\n",
    "BATCH_SIZE = 4   # her iterasyonda modele verilen veri\n",
    "AUTO = tf.data.experimental.AUTOTUNE\n",
    "INPUT_SHAPE = (42, 128, 128, 3)  # 42 frames, 128x128 resolution, 3 channels (RGB)\n",
    "NUM_CLASSES = 2\n",
    "\n",
    "# OPTIMIZER\n",
    "LEARNING_RATE = 1e-4 #modelin ağırlıklarını ne kadar hızlı güncelleyeceğini belirler\n",
    "WEIGHT_DECAY = 1e-5  #model ağırlıklarını aşırı büyümesinin önüne geçer \n",
    "\n",
    "# TRAINING\n",
    "EPOCHS = 20  #verilerle kaç kez eğiteleceği\n",
    "\n",
    "# TUBELET EMBEDDING\n",
    "PATCH_SIZE = (8, 8, 8)  # zaman boutu-pikselxpiksel\n",
    "NUM_PATCHES = (INPUT_SHAPE[1] // PATCH_SIZE[0]) * (INPUT_SHAPE[2] // PATCH_SIZE[1]) * INPUT_SHAPE[0]\n",
    "\n",
    "# ViViT ARCHITECTURE\n",
    "LAYER_NORM_EPS = 1e-6\n",
    "PROJECTION_DIM = 64\n",
    "NUM_HEADS = 2\n",
    "NUM_LAYERS = 2 \n"
   ]
  },
  {
   "cell_type": "markdown",
   "metadata": {},
   "source": [
    "veri işleme ve veri yükleme"
   ]
  },
  {
   "cell_type": "code",
   "execution_count": 14,
   "metadata": {},
   "outputs": [],
   "source": [
    "@tf.function\n",
    "def preprocess(frames: tf.Tensor, label: tf.Tensor):\n",
    "    \"\"\"Preprocess the frames tensors and parse the labels\"\"\"\n",
    "    frames = tf.image.convert_image_dtype(\n",
    "        frames[\n",
    "            ..., tf.newaxis\n",
    "        ],  \n",
    "        tf.float32,\n",
    "    )\n",
    "\n",
    "    # Parse label\n",
    "    label = tf.cast(label, tf.float32)\n",
    "    return frames, label\n",
    "\n",
    "\n",
    "def prepare_dataloader(\n",
    "    videos: np.ndarray,\n",
    "    labels: np.ndarray,\n",
    "    loader_type: str = \"train\",\n",
    "    batch_size: int = BATCH_SIZE,\n",
    "):\n",
    "    \"\"\"Utility function to prepare dataloader\"\"\"\n",
    "    dataset = tf.data.Dataset.from_tensor_slices((videos, labels))\n",
    "\n",
    "    if loader_type == \"train\":\n",
    "        dataset = dataset.shuffle(BATCH_SIZE * 2)\n",
    "\n",
    "    dataloader = (\n",
    "        dataset.map(preprocess, num_parallel_calls=tf.data.experimental.AUTOTUNE)\n",
    "        .batch(batch_size)\n",
    "        .prefetch(tf.data.experimental.AUTOTUNE)\n",
    "    )\n",
    "\n",
    "    return dataloader\n",
    "\n",
    "\n",
    "trainloader = prepare_dataloader(X_train, y_train, \"train\")\n",
    "validloader = prepare_dataloader(X_val, y_val, \"valid\")\n",
    "testloader = prepare_dataloader(X_test, y_test, \"test\")"
   ]
  },
  {
   "cell_type": "markdown",
   "metadata": {},
   "source": [
    "model sınıfları"
   ]
  },
  {
   "cell_type": "code",
   "execution_count": 15,
   "metadata": {},
   "outputs": [],
   "source": [
    "class TubeletEmbedding(layers.Layer):\n",
    "    def __init__(self, embed_dim, patch_size, **kwargs):\n",
    "        super().__init__(**kwargs)\n",
    "        self.projection = layers.Conv3D(\n",
    "            filters=embed_dim,\n",
    "            kernel_size=patch_size,\n",
    "            strides=patch_size,\n",
    "            padding=\"VALID\",\n",
    "        )\n",
    "        self.flatten = layers.Reshape(target_shape=(-1, embed_dim))\n",
    "\n",
    "    def call(self, videos):\n",
    "        projected_patches = self.projection(videos)\n",
    "        flattened_patches = self.flatten(projected_patches)\n",
    "        return flattened_patches\n",
    "\n",
    "class PositionalEncoder(layers.Layer):\n",
    "    def __init__(self, embed_dim, **kwargs):\n",
    "        super().__init__(**kwargs)\n",
    "        self.embed_dim = embed_dim\n",
    "\n",
    "    def build(self, input_shape):\n",
    "        _, num_tokens, _ = input_shape\n",
    "        self.position_embedding = layers.Embedding(\n",
    "            input_dim=num_tokens, output_dim=self.embed_dim\n",
    "        )\n",
    "        self.positions = tf.range(start=0, limit=num_tokens, delta=1)\n",
    "\n",
    "    def call(self, encoded_tokens):\n",
    "        encoded_positions = self.position_embedding(self.positions)\n",
    "        encoded_tokens = encoded_tokens + encoded_positions\n",
    "        return encoded_tokens"
   ]
  },
  {
   "cell_type": "markdown",
   "metadata": {},
   "source": [
    "modeli oluştur"
   ]
  },
  {
   "cell_type": "code",
   "execution_count": 16,
   "metadata": {},
   "outputs": [],
   "source": [
    "def create_vivit_classifier(\n",
    "    tubelet_embedder,\n",
    "    positional_encoder,\n",
    "    input_shape=INPUT_SHAPE,\n",
    "    transformer_layers=NUM_LAYERS,\n",
    "    num_heads=NUM_HEADS,\n",
    "    embed_dim=PROJECTION_DIM,\n",
    "    layer_norm_eps=LAYER_NORM_EPS,\n",
    "    num_classes=NUM_CLASSES,\n",
    "):\n",
    "\n",
    "    inputs = layers.Input(shape=input_shape)\n",
    "\n",
    "    patches = tubelet_embedder(inputs)\n",
    "\n",
    "    encoded_patches = positional_encoder(patches)\n",
    "\n",
    "    # Create multiple layers of the Transformer block.\n",
    "    for _ in range(transformer_layers):\n",
    "        x1 = layers.LayerNormalization(epsilon=1e-6)(encoded_patches)\n",
    "        attention_output = layers.MultiHeadAttention(\n",
    "            num_heads=num_heads, key_dim=embed_dim // num_heads, dropout=0.1\n",
    "        )(x1, x1)\n",
    "\n",
    "        x2 = layers.Add()([attention_output, encoded_patches])\n",
    "\n",
    "        x3 = layers.LayerNormalization(epsilon=1e-6)(x2)\n",
    "        x3 = keras.Sequential(\n",
    "            [\n",
    "                layers.Dense(units=embed_dim * 4, activation=tf.nn.gelu),\n",
    "                layers.Dense(units=embed_dim, activation=tf.nn.gelu),\n",
    "            ]\n",
    "        )(x3)\n",
    "\n",
    "        encoded_patches = layers.Add()([x3, x2])\n",
    "\n",
    "    representation = layers.LayerNormalization(epsilon=layer_norm_eps)(encoded_patches)\n",
    "    representation = layers.GlobalAvgPool1D()(representation)\n",
    "\n",
    "    outputs = layers.Dense(units=num_classes, activation=\"softmax\")(representation)\n",
    "\n",
    "\n",
    "    model = keras.Model(inputs=inputs, outputs=outputs)\n",
    "    return model"
   ]
  },
  {
   "cell_type": "markdown",
   "metadata": {},
   "source": [
    "Vivit Modeli oluştur."
   ]
  },
  {
   "cell_type": "code",
   "execution_count": 17,
   "metadata": {},
   "outputs": [
    {
     "name": "stdout",
     "output_type": "stream",
     "text": [
      "Epoch 1/20\n",
      "83/83 [==============================] - 55s 623ms/step - loss: 0.7286 - accuracy: 0.6225 - recall_m: 0.9682 - precision_m: 0.5303 - f1_m: 0.6635 - val_loss: 0.5481 - val_accuracy: 0.7838 - val_recall_m: 0.9000 - val_precision_m: 0.4750 - val_f1_m: 0.6038\n",
      "Epoch 2/20\n",
      "83/83 [==============================] - 49s 591ms/step - loss: 0.6570 - accuracy: 0.5978 - recall_m: 0.9757 - precision_m: 0.5262 - f1_m: 0.6602 - val_loss: 0.5715 - val_accuracy: 0.6486 - val_recall_m: 0.9000 - val_precision_m: 0.4750 - val_f1_m: 0.6038\n",
      "Epoch 3/20\n",
      "83/83 [==============================] - 49s 586ms/step - loss: 0.5532 - accuracy: 0.6640 - recall_m: 0.9403 - precision_m: 0.5204 - f1_m: 0.6412 - val_loss: 0.4658 - val_accuracy: 0.7568 - val_recall_m: 0.9000 - val_precision_m: 0.4750 - val_f1_m: 0.6038\n",
      "Epoch 4/20\n",
      "83/83 [==============================] - 49s 589ms/step - loss: 0.5029 - accuracy: 0.7126 - recall_m: 0.9452 - precision_m: 0.5324 - f1_m: 0.6588 - val_loss: 0.4154 - val_accuracy: 0.7838 - val_recall_m: 0.9000 - val_precision_m: 0.4750 - val_f1_m: 0.6038\n",
      "Epoch 5/20\n",
      "83/83 [==============================] - 49s 589ms/step - loss: 0.4849 - accuracy: 0.7101 - recall_m: 0.9478 - precision_m: 0.5325 - f1_m: 0.6514 - val_loss: 0.3804 - val_accuracy: 0.8108 - val_recall_m: 0.9000 - val_precision_m: 0.4750 - val_f1_m: 0.6038\n",
      "Epoch 6/20\n",
      "83/83 [==============================] - 49s 586ms/step - loss: 0.4799 - accuracy: 0.7133 - recall_m: 0.9609 - precision_m: 0.5176 - f1_m: 0.6419 - val_loss: 0.3765 - val_accuracy: 0.8108 - val_recall_m: 0.9000 - val_precision_m: 0.4750 - val_f1_m: 0.6038\n",
      "Epoch 7/20\n",
      "83/83 [==============================] - 49s 592ms/step - loss: 0.4700 - accuracy: 0.7099 - recall_m: 0.9694 - precision_m: 0.5269 - f1_m: 0.6568 - val_loss: 0.3777 - val_accuracy: 0.8108 - val_recall_m: 0.9000 - val_precision_m: 0.4750 - val_f1_m: 0.6038\n",
      "Epoch 8/20\n",
      "83/83 [==============================] - 49s 590ms/step - loss: 0.4700 - accuracy: 0.7149 - recall_m: 0.9514 - precision_m: 0.5275 - f1_m: 0.6506 - val_loss: 0.3899 - val_accuracy: 0.7568 - val_recall_m: 0.9000 - val_precision_m: 0.4750 - val_f1_m: 0.6038\n",
      "Epoch 9/20\n",
      "83/83 [==============================] - 49s 593ms/step - loss: 0.4483 - accuracy: 0.7502 - recall_m: 0.9774 - precision_m: 0.5229 - f1_m: 0.6595 - val_loss: 0.3797 - val_accuracy: 0.8378 - val_recall_m: 0.9000 - val_precision_m: 0.4750 - val_f1_m: 0.6038\n",
      "Epoch 10/20\n",
      "83/83 [==============================] - 50s 599ms/step - loss: 0.4465 - accuracy: 0.7247 - recall_m: 0.9337 - precision_m: 0.5295 - f1_m: 0.6481 - val_loss: 0.3849 - val_accuracy: 0.8108 - val_recall_m: 0.9000 - val_precision_m: 0.4750 - val_f1_m: 0.6038\n",
      "Epoch 11/20\n",
      "83/83 [==============================] - 48s 583ms/step - loss: 0.4221 - accuracy: 0.7566 - recall_m: 0.9450 - precision_m: 0.5322 - f1_m: 0.6591 - val_loss: 0.5645 - val_accuracy: 0.7568 - val_recall_m: 0.9000 - val_precision_m: 0.4750 - val_f1_m: 0.6038\n",
      "Epoch 12/20\n",
      "83/83 [==============================] - 48s 579ms/step - loss: 0.4189 - accuracy: 0.7274 - recall_m: 0.9199 - precision_m: 0.5303 - f1_m: 0.6460 - val_loss: 0.7766 - val_accuracy: 0.7297 - val_recall_m: 0.9000 - val_precision_m: 0.4750 - val_f1_m: 0.6038\n",
      "Epoch 13/20\n",
      "83/83 [==============================] - 48s 580ms/step - loss: 0.4442 - accuracy: 0.6987 - recall_m: 0.9754 - precision_m: 0.5315 - f1_m: 0.6623 - val_loss: 0.7080 - val_accuracy: 0.7838 - val_recall_m: 0.9000 - val_precision_m: 0.4750 - val_f1_m: 0.6038\n",
      "Epoch 14/20\n",
      "83/83 [==============================] - 48s 582ms/step - loss: 0.3974 - accuracy: 0.7116 - recall_m: 0.9753 - precision_m: 0.5262 - f1_m: 0.6618 - val_loss: 0.8222 - val_accuracy: 0.7838 - val_recall_m: 0.9000 - val_precision_m: 0.4750 - val_f1_m: 0.6038\n",
      "Epoch 15/20\n",
      "83/83 [==============================] - 49s 585ms/step - loss: 0.4073 - accuracy: 0.7199 - recall_m: 0.9694 - precision_m: 0.5296 - f1_m: 0.6566 - val_loss: 0.8187 - val_accuracy: 0.7027 - val_recall_m: 0.9000 - val_precision_m: 0.4750 - val_f1_m: 0.6038\n",
      "Epoch 16/20\n",
      "83/83 [==============================] - 46s 557ms/step - loss: 0.3971 - accuracy: 0.7131 - recall_m: 0.9503 - precision_m: 0.5285 - f1_m: 0.6487 - val_loss: 0.7858 - val_accuracy: 0.7838 - val_recall_m: 0.9000 - val_precision_m: 0.4750 - val_f1_m: 0.6038\n",
      "Epoch 17/20\n",
      "83/83 [==============================] - 48s 583ms/step - loss: 0.3909 - accuracy: 0.7183 - recall_m: 0.9323 - precision_m: 0.5324 - f1_m: 0.6529 - val_loss: 0.8637 - val_accuracy: 0.7297 - val_recall_m: 0.9000 - val_precision_m: 0.4750 - val_f1_m: 0.6038\n",
      "Epoch 18/20\n",
      "83/83 [==============================] - 48s 582ms/step - loss: 0.3823 - accuracy: 0.7376 - recall_m: 0.9841 - precision_m: 0.5287 - f1_m: 0.6570 - val_loss: 0.7601 - val_accuracy: 0.7297 - val_recall_m: 0.9000 - val_precision_m: 0.4750 - val_f1_m: 0.6038\n",
      "Epoch 19/20\n",
      "83/83 [==============================] - 49s 585ms/step - loss: 0.3356 - accuracy: 0.7812 - recall_m: 0.9634 - precision_m: 0.5299 - f1_m: 0.6536 - val_loss: 0.8699 - val_accuracy: 0.7568 - val_recall_m: 0.9000 - val_precision_m: 0.4750 - val_f1_m: 0.6038\n",
      "Epoch 20/20\n",
      "83/83 [==============================] - 48s 584ms/step - loss: 0.3522 - accuracy: 0.7744 - recall_m: 0.9292 - precision_m: 0.5277 - f1_m: 0.6555 - val_loss: 0.7969 - val_accuracy: 0.7297 - val_recall_m: 0.9000 - val_precision_m: 0.4750 - val_f1_m: 0.6038\n",
      "24/24 [==============================] - 4s 175ms/step - loss: 0.5766 - accuracy: 0.6344 - recall_m: 0.9583 - precision_m: 0.6146 - f1_m: 0.7310\n",
      "Test accuracy: 63.44%\n",
      "Test recall: 95.83%\n",
      "Test precision: 61.46%\n",
      "Test F1: 73.1%\n"
     ]
    },
    {
     "name": "stderr",
     "output_type": "stream",
     "text": [
      "WARNING:absl:Found untraced functions such as conv3d_layer_call_fn, conv3d_layer_call_and_return_conditional_losses, reshape_layer_call_fn, reshape_layer_call_and_return_conditional_losses, embedding_layer_call_fn while saving (showing 5 of 75). These functions will not be directly callable after loading.\n",
      "WARNING:absl:Found untraced functions such as conv3d_layer_call_fn, conv3d_layer_call_and_return_conditional_losses, reshape_layer_call_fn, reshape_layer_call_and_return_conditional_losses, embedding_layer_call_fn while saving (showing 5 of 75). These functions will not be directly callable after loading.\n"
     ]
    },
    {
     "name": "stdout",
     "output_type": "stream",
     "text": [
      "INFO:tensorflow:Assets written to: vivit_model\\assets\n"
     ]
    },
    {
     "name": "stderr",
     "output_type": "stream",
     "text": [
      "INFO:tensorflow:Assets written to: vivit_model\\assets\n"
     ]
    }
   ],
   "source": [
    "def recall_m(y_true, y_pred):\n",
    "    true_positives = K.sum(K.round(K.clip(y_true * y_pred, 0, 1)))\n",
    "    possible_positives = K.sum(K.round(K.clip(y_true, 0, 1)))\n",
    "    recall = true_positives / (possible_positives + K.epsilon())\n",
    "    return recall\n",
    "\n",
    "def precision_m(y_true, y_pred):\n",
    "    true_positives = K.sum(K.round(K.clip(y_true * y_pred, 0, 1)))\n",
    "    predicted_positives = K.sum(K.round(K.clip(y_pred, 0, 1)))\n",
    "    precision = true_positives / (predicted_positives + K.epsilon())\n",
    "    return precision\n",
    "\n",
    "def f1_m(y_true, y_pred):\n",
    "    precision = precision_m(y_true, y_pred)\n",
    "    recall = recall_m(y_true, y_pred)\n",
    "    return 2*((precision*recall)/(precision+recall+K.epsilon()))\n",
    "\n",
    "def run_experiment():\n",
    "    # Initialize model\n",
    "    model = create_vivit_classifier(\n",
    "        tubelet_embedder=TubeletEmbedding(\n",
    "            embed_dim=PROJECTION_DIM, patch_size=PATCH_SIZE\n",
    "        ),\n",
    "        positional_encoder=PositionalEncoder(embed_dim=PROJECTION_DIM),\n",
    "    )\n",
    "\n",
    "    optimizer = keras.optimizers.Adam(learning_rate=LEARNING_RATE)\n",
    "    model.compile(\n",
    "        optimizer=optimizer,\n",
    "        loss=\"sparse_categorical_crossentropy\",\n",
    "        metrics=[\n",
    "            keras.metrics.SparseCategoricalAccuracy(name=\"accuracy\"),\n",
    "            recall_m,\n",
    "            precision_m,\n",
    "            f1_m,\n",
    "        ],\n",
    "    )\n",
    "\n",
    "    # Train the model.\n",
    "    _ = model.fit(trainloader, epochs=EPOCHS, validation_data=validloader)\n",
    "\n",
    "    _, accuracy, recall, precision, f1 = model.evaluate(testloader)\n",
    "    print(f\"Test accuracy: {round(accuracy * 100, 2)}%\")\n",
    "    print(f\"Test recall: {round(recall * 100, 2)}%\")\n",
    "    print(f\"Test precision: {round(precision * 100, 2)}%\")\n",
    "    print(f\"Test F1: {round(f1 * 100, 2)}%\")\n",
    "    \n",
    "    vivit_scores = [accuracy, recall, precision, f1]\n",
    "    return model, vivit_scores\n",
    "\n",
    "\n",
    "model, vivit_scores = run_experiment()\n",
    "\n",
    "model.save('vivit_model')"
   ]
  },
  {
   "cell_type": "markdown",
   "metadata": {},
   "source": [
    "Grafiğini çiz."
   ]
  },
  {
   "cell_type": "code",
   "execution_count": 18,
   "metadata": {},
   "outputs": [
    {
     "data": {
      "image/png": "[encoded data removed]",
      "text/plain": [
       "<Figure size 432x288 with 2 Axes>"
      ]
     },
     "metadata": {
      "needs_background": "light"
     },
     "output_type": "display_data"
    }
   ],
   "source": [
    "y_preds = np.argmax(model.predict(testloader), axis=1)\n",
    "\n",
    "#Generate the confusion matrix\n",
    "cf_matrix = confusion_matrix(y_test, y_preds)\n",
    "\n",
    "ax = sns.heatmap(cf_matrix, annot=True, cmap='Blues')\n",
    "\n",
    "ax.set_title('Seaborn Confusion Matrix with labels\\n\\n');\n",
    "ax.set_xlabel('\\nPredicted Values')\n",
    "ax.set_ylabel('Actual Values ');\n",
    "\n",
    "ax.xaxis.set_ticklabels(['False','True'])\n",
    "ax.yaxis.set_ticklabels(['False','True'])\n",
    "\n",
    "plt.show()\n",
    "ax.figure.savefig(\"vivit_cf.png\") "
   ]
  },
  {
   "cell_type": "markdown",
   "metadata": {},
   "source": [
    "Tahminleri görselleştir."
   ]
  },
  {
   "cell_type": "code",
   "execution_count": 19,
   "metadata": {},
   "outputs": [
    {
     "data": {
      "application/vnd.jupyter.widget-view+json": {
       "model_id": "89005e8d176048b6b0343feec8814423",
       "version_major": 2,
       "version_minor": 0
      },
      "text/plain": [
       "GridBox(children=(VBox(children=(HTML(value=\"'T: Fight | P: noFight'\"), Box(children=(Image(value=b'GIF89a\\x80…"
      ]
     },
     "metadata": {},
     "output_type": "display_data"
    }
   ],
   "source": [
    "NUM_SAMPLES_VIZ = 25\n",
    "\n",
    "testsamples, labels_ = next(iter(testloader))\n",
    "testsamples, labels_ = X_test[:NUM_SAMPLES_VIZ], y_test[:NUM_SAMPLES_VIZ]\n",
    "\n",
    "ground_truths = []\n",
    "preds = []\n",
    "videos_ = []\n",
    "\n",
    "for i, (testsample, label) in enumerate(zip(testsamples, labels_)):\n",
    "    # Generate gif\n",
    "    with io.BytesIO() as gif:\n",
    "        imageio.mimsave(gif, (testsample * 255).astype(\"uint8\"), \"GIF\", fps=5)\n",
    "        videos_.append(gif.getvalue())\n",
    "\n",
    "    # Get model prediction\n",
    "    output = model.predict(tf.expand_dims(testsample, axis=0))[0]\n",
    "    pred = np.argmax(output, axis=0)\n",
    "\n",
    "    ground_truths.append(label.astype(\"int\"))\n",
    "    preds.append(pred)\n",
    "\n",
    "\n",
    "def make_box_for_grid(image_widget, fit):\n",
    "    \"\"\"Make a VBox to hold caption/image for demonstrating option_fit values.\n",
    "\n",
    "    Source: https://ipywidgets.readthedocs.io/en/latest/examples/Widget%20Styling.html\n",
    "    \"\"\"\n",
    "    # Make the caption\n",
    "    if fit is not None:\n",
    "        fit_str = \"'{}'\".format(fit)\n",
    "    else:\n",
    "        fit_str = str(fit)\n",
    "\n",
    "    h = ipywidgets.HTML(value=\"\" + str(fit_str) + \"\")\n",
    "\n",
    "    # Make the green box with the image widget inside it\n",
    "    boxb = ipywidgets.widgets.Box()\n",
    "    boxb.children = [image_widget]\n",
    "\n",
    "    # Compose into a vertical box\n",
    "    vb = ipywidgets.widgets.VBox()\n",
    "    vb.layout.align_items = \"center\"\n",
    "    vb.children = [h, boxb]\n",
    "    return vb\n",
    "\n",
    "\n",
    "boxes = []\n",
    "label_dict = {0: 'noFight', 1: 'Fight'}\n",
    "for i in range(NUM_SAMPLES_VIZ):\n",
    "    ib = ipywidgets.widgets.Image(value=videos_[i], width=200, height=200)\n",
    "    true_class = label_dict[ground_truths[i]]\n",
    "    pred_class = label_dict[preds[i]]\n",
    "    caption = f\"T: {true_class} | P: {pred_class}\"\n",
    "\n",
    "    boxes.append(make_box_for_grid(ib, caption))\n",
    "\n",
    "ipywidgets.widgets.GridBox(\n",
    "    boxes, layout=ipywidgets.widgets.Layout(grid_template_columns=\"repeat(5, 200px)\")\n",
    ")"
   ]
  },
  {
   "cell_type": "markdown",
   "metadata": {},
   "source": [
    "CNN-RNN model"
   ]
  },
  {
   "cell_type": "code",
   "execution_count": 20,
   "metadata": {},
   "outputs": [],
   "source": [
    "IMG_SIZE = 128\n",
    "\n",
    "def build_feature_extractor():\n",
    "    feature_extractor = keras.applications.InceptionV3(\n",
    "        weights=\"imagenet\",\n",
    "        include_top=False,\n",
    "        pooling=\"avg\",\n",
    "        input_shape=(IMG_SIZE, IMG_SIZE, 3),\n",
    "    )\n",
    "    preprocess_input = keras.applications.inception_v3.preprocess_input\n",
    "\n",
    "    inputs = keras.Input((IMG_SIZE, IMG_SIZE, 3))\n",
    "    preprocessed = preprocess_input(inputs)\n",
    "\n",
    "    outputs = feature_extractor(preprocessed)\n",
    "    return keras.Model(inputs, outputs, name=\"feature_extractor\")\n",
    "\n",
    "\n",
    "feature_extractor = build_feature_extractor()"
   ]
  },
  {
   "cell_type": "markdown",
   "metadata": {},
   "source": [
    "Verileri işleme"
   ]
  },
  {
   "cell_type": "code",
   "execution_count": 21,
   "metadata": {},
   "outputs": [
    {
     "name": "stdout",
     "output_type": "stream",
     "text": [
      "0 / 461  videos prepared\n",
      "25 / 461  videos prepared\n",
      "50 / 461  videos prepared\n",
      "75 / 461  videos prepared\n",
      "100 / 461  videos prepared\n",
      "125 / 461  videos prepared\n",
      "150 / 461  videos prepared\n",
      "175 / 461  videos prepared\n",
      "200 / 461  videos prepared\n",
      "225 / 461  videos prepared\n",
      "250 / 461  videos prepared\n",
      "275 / 461  videos prepared\n",
      "300 / 461  videos prepared\n",
      "325 / 461  videos prepared\n",
      "350 / 461  videos prepared\n",
      "375 / 461  videos prepared\n",
      "400 / 461  videos prepared\n",
      "425 / 461  videos prepared\n",
      "450 / 461  videos prepared\n"
     ]
    }
   ],
   "source": [
    "MAX_SEQ_LENGTH = 42\n",
    "NUM_FEATURES = 2048\n",
    "\n",
    "def prepare_all_videos():\n",
    "    num_samples = len(videos)\n",
    "    # `frame_masks` and `frame_features` are what we will feed to our sequence model.\n",
    "    frame_masks = np.zeros(shape=(num_samples, MAX_SEQ_LENGTH), dtype=\"bool\")\n",
    "    frame_features = np.zeros(\n",
    "        shape=(num_samples, MAX_SEQ_LENGTH, NUM_FEATURES), dtype=\"float32\"\n",
    "    )\n",
    "\n",
    "    # For each video.\n",
    "    for idx in range(len(videos)):\n",
    "        if idx % 25 == 0:\n",
    "            print(idx,'/',len(videos), ' videos prepared')\n",
    "        frames = videos[idx][None, ...]\n",
    "\n",
    "        temp_frame_mask = np.zeros(shape=(1, MAX_SEQ_LENGTH,), dtype=\"bool\")\n",
    "        temp_frame_features = np.zeros(\n",
    "            shape=(1, MAX_SEQ_LENGTH, NUM_FEATURES), dtype=\"float32\"\n",
    "        )\n",
    "\n",
    "        for i, batch in enumerate(frames):\n",
    "            video_length = batch.shape[0]\n",
    "            length = min(MAX_SEQ_LENGTH, video_length)\n",
    "            for j in range(length):\n",
    "                temp_frame_features[i, j, :] = feature_extractor.predict(\n",
    "                    batch[None, j, :]\n",
    "                )\n",
    "            temp_frame_mask[i, :length] = 1  # 1 = not masked, 0 = masked\n",
    "\n",
    "        frame_features[idx,] = temp_frame_features.squeeze()\n",
    "        frame_masks[idx,] = temp_frame_mask.squeeze()\n",
    "\n",
    "    return (frame_features, frame_masks)\n",
    "\n",
    "\n",
    "processed_data = prepare_all_videos()"
   ]
  },
  {
   "cell_type": "code",
   "execution_count": 22,
   "metadata": {},
   "outputs": [
    {
     "data": {
      "text/plain": [
       "(461, 42, 2048)"
      ]
     },
     "execution_count": 22,
     "metadata": {},
     "output_type": "execute_result"
    }
   ],
   "source": [
    "processed_data[0].shape"
   ]
  },
  {
   "cell_type": "markdown",
   "metadata": {},
   "source": [
    "eğitim - test "
   ]
  },
  {
   "cell_type": "code",
   "execution_count": 23,
   "metadata": {},
   "outputs": [
    {
     "name": "stdout",
     "output_type": "stream",
     "text": [
      "(368, 42, 2048)\n",
      "(93, 42, 2048)\n"
     ]
    }
   ],
   "source": [
    "X_train_features, X_test_features, y_train, y_test = train_test_split(processed_data[0], labels, test_size=0.2, random_state=2334)\n",
    "X_train_masks, X_test_masks, y_train, y_test = train_test_split(processed_data[1], labels, test_size=0.2, random_state=2334)\n",
    "\n",
    "\n",
    "print(X_train_features.shape)\n",
    "print(X_test_features.shape)"
   ]
  },
  {
   "cell_type": "markdown",
   "metadata": {},
   "source": [
    "modeli oluştur - eğit"
   ]
  },
  {
   "cell_type": "code",
   "execution_count": 24,
   "metadata": {},
   "outputs": [
    {
     "name": "stdout",
     "output_type": "stream",
     "text": [
      "Epoch 1/20\n",
      "9/9 [==============================] - 10s 313ms/step - loss: 0.7770 - accuracy: 0.5330 - recall_m: 1.0000 - precision_m: 0.5224 - f1_m: 0.6802 - val_loss: 0.6549 - val_accuracy: 0.6126 - val_recall_m: 1.0000 - val_precision_m: 0.4771 - val_f1_m: 0.6433\n",
      "\n",
      "Epoch 00001: val_loss improved from inf to 0.65488, saving model to ./tmp\\video_classifier\n",
      "Epoch 2/20\n",
      "9/9 [==============================] - 0s 36ms/step - loss: 0.6744 - accuracy: 0.5324 - recall_m: 0.9778 - precision_m: 0.4970 - f1_m: 0.6548 - val_loss: 0.6337 - val_accuracy: 0.6036 - val_recall_m: 1.0000 - val_precision_m: 0.4771 - val_f1_m: 0.6433\n",
      "\n",
      "Epoch 00002: val_loss improved from 0.65488 to 0.63371, saving model to ./tmp\\video_classifier\n",
      "Epoch 3/20\n",
      "9/9 [==============================] - 0s 36ms/step - loss: 0.6138 - accuracy: 0.6253 - recall_m: 0.9778 - precision_m: 0.5200 - f1_m: 0.6756 - val_loss: 0.6216 - val_accuracy: 0.6036 - val_recall_m: 1.0000 - val_precision_m: 0.4771 - val_f1_m: 0.6433\n",
      "\n",
      "Epoch 00003: val_loss improved from 0.63371 to 0.62159, saving model to ./tmp\\video_classifier\n",
      "Epoch 4/20\n",
      "9/9 [==============================] - 0s 41ms/step - loss: 0.6289 - accuracy: 0.6143 - recall_m: 0.9778 - precision_m: 0.4666 - f1_m: 0.6164 - val_loss: 0.6068 - val_accuracy: 0.6486 - val_recall_m: 1.0000 - val_precision_m: 0.4771 - val_f1_m: 0.6433\n",
      "\n",
      "Epoch 00004: val_loss improved from 0.62159 to 0.60682, saving model to ./tmp\\video_classifier\n",
      "Epoch 5/20\n",
      "9/9 [==============================] - 0s 35ms/step - loss: 0.6117 - accuracy: 0.6370 - recall_m: 0.9778 - precision_m: 0.4893 - f1_m: 0.6489 - val_loss: 0.5912 - val_accuracy: 0.6937 - val_recall_m: 1.0000 - val_precision_m: 0.4771 - val_f1_m: 0.6433\n",
      "\n",
      "Epoch 00005: val_loss improved from 0.60682 to 0.59122, saving model to ./tmp\\video_classifier\n",
      "Epoch 6/20\n",
      "9/9 [==============================] - 0s 38ms/step - loss: 0.5827 - accuracy: 0.6693 - recall_m: 1.0000 - precision_m: 0.5309 - f1_m: 0.6889 - val_loss: 0.5787 - val_accuracy: 0.6577 - val_recall_m: 1.0000 - val_precision_m: 0.4771 - val_f1_m: 0.6433\n",
      "\n",
      "Epoch 00006: val_loss improved from 0.59122 to 0.57867, saving model to ./tmp\\video_classifier\n",
      "Epoch 7/20\n",
      "9/9 [==============================] - 0s 34ms/step - loss: 0.5778 - accuracy: 0.6764 - recall_m: 1.0000 - precision_m: 0.5411 - f1_m: 0.6969 - val_loss: 0.5668 - val_accuracy: 0.6757 - val_recall_m: 1.0000 - val_precision_m: 0.4771 - val_f1_m: 0.6433\n",
      "\n",
      "Epoch 00007: val_loss improved from 0.57867 to 0.56681, saving model to ./tmp\\video_classifier\n",
      "Epoch 8/20\n",
      "9/9 [==============================] - 0s 34ms/step - loss: 0.5342 - accuracy: 0.7527 - recall_m: 1.0000 - precision_m: 0.5262 - f1_m: 0.6799 - val_loss: 0.5653 - val_accuracy: 0.6757 - val_recall_m: 1.0000 - val_precision_m: 0.4771 - val_f1_m: 0.6433\n",
      "\n",
      "Epoch 00008: val_loss improved from 0.56681 to 0.56526, saving model to ./tmp\\video_classifier\n",
      "Epoch 9/20\n",
      "9/9 [==============================] - 0s 33ms/step - loss: 0.5374 - accuracy: 0.7126 - recall_m: 1.0000 - precision_m: 0.5037 - f1_m: 0.6636 - val_loss: 0.5505 - val_accuracy: 0.7027 - val_recall_m: 1.0000 - val_precision_m: 0.4771 - val_f1_m: 0.6433\n",
      "\n",
      "Epoch 00009: val_loss improved from 0.56526 to 0.55053, saving model to ./tmp\\video_classifier\n",
      "Epoch 10/20\n",
      "9/9 [==============================] - 0s 33ms/step - loss: 0.4673 - accuracy: 0.8256 - recall_m: 1.0000 - precision_m: 0.5108 - f1_m: 0.6684 - val_loss: 0.5692 - val_accuracy: 0.6577 - val_recall_m: 1.0000 - val_precision_m: 0.4771 - val_f1_m: 0.6433\n",
      "\n",
      "Epoch 00010: val_loss did not improve from 0.55053\n",
      "Epoch 11/20\n",
      "9/9 [==============================] - 0s 34ms/step - loss: 0.5013 - accuracy: 0.7840 - recall_m: 1.0000 - precision_m: 0.5593 - f1_m: 0.7054 - val_loss: 0.5412 - val_accuracy: 0.7027 - val_recall_m: 1.0000 - val_precision_m: 0.4771 - val_f1_m: 0.6433\n",
      "\n",
      "Epoch 00011: val_loss improved from 0.55053 to 0.54124, saving model to ./tmp\\video_classifier\n",
      "Epoch 12/20\n",
      "9/9 [==============================] - 0s 37ms/step - loss: 0.4472 - accuracy: 0.8109 - recall_m: 1.0000 - precision_m: 0.5125 - f1_m: 0.6735 - val_loss: 0.5536 - val_accuracy: 0.6937 - val_recall_m: 1.0000 - val_precision_m: 0.4771 - val_f1_m: 0.6433\n",
      "\n",
      "Epoch 00012: val_loss did not improve from 0.54124\n",
      "Epoch 13/20\n",
      "9/9 [==============================] - 0s 34ms/step - loss: 0.4290 - accuracy: 0.8226 - recall_m: 1.0000 - precision_m: 0.5406 - f1_m: 0.6945 - val_loss: 0.5363 - val_accuracy: 0.7297 - val_recall_m: 1.0000 - val_precision_m: 0.4771 - val_f1_m: 0.6433\n",
      "\n",
      "Epoch 00013: val_loss improved from 0.54124 to 0.53628, saving model to ./tmp\\video_classifier\n",
      "Epoch 14/20\n",
      "9/9 [==============================] - 0s 37ms/step - loss: 0.4112 - accuracy: 0.8446 - recall_m: 1.0000 - precision_m: 0.5029 - f1_m: 0.6629 - val_loss: 0.5295 - val_accuracy: 0.7297 - val_recall_m: 1.0000 - val_precision_m: 0.4771 - val_f1_m: 0.6433\n",
      "\n",
      "Epoch 00014: val_loss improved from 0.53628 to 0.52947, saving model to ./tmp\\video_classifier\n",
      "Epoch 15/20\n",
      "9/9 [==============================] - 0s 34ms/step - loss: 0.4325 - accuracy: 0.8330 - recall_m: 0.9778 - precision_m: 0.4885 - f1_m: 0.6487 - val_loss: 0.5285 - val_accuracy: 0.6937 - val_recall_m: 1.0000 - val_precision_m: 0.4771 - val_f1_m: 0.6433\n",
      "\n",
      "Epoch 00015: val_loss improved from 0.52947 to 0.52849, saving model to ./tmp\\video_classifier\n",
      "Epoch 16/20\n",
      "9/9 [==============================] - 0s 39ms/step - loss: 0.3861 - accuracy: 0.8452 - recall_m: 0.9778 - precision_m: 0.4783 - f1_m: 0.6399 - val_loss: 0.5573 - val_accuracy: 0.7027 - val_recall_m: 1.0000 - val_precision_m: 0.4771 - val_f1_m: 0.6433\n",
      "\n",
      "Epoch 00016: val_loss did not improve from 0.52849\n",
      "Epoch 17/20\n",
      "9/9 [==============================] - 0s 37ms/step - loss: 0.3839 - accuracy: 0.8728 - recall_m: 0.9778 - precision_m: 0.5073 - f1_m: 0.6645 - val_loss: 0.6184 - val_accuracy: 0.6396 - val_recall_m: 1.0000 - val_precision_m: 0.4771 - val_f1_m: 0.6433\n",
      "\n",
      "Epoch 00017: val_loss did not improve from 0.52849\n",
      "Epoch 18/20\n",
      "9/9 [==============================] - 0s 34ms/step - loss: 0.3561 - accuracy: 0.8665 - recall_m: 0.9778 - precision_m: 0.4867 - f1_m: 0.6487 - val_loss: 0.5667 - val_accuracy: 0.6937 - val_recall_m: 1.0000 - val_precision_m: 0.4771 - val_f1_m: 0.6433\n",
      "\n",
      "Epoch 00018: val_loss did not improve from 0.52849\n",
      "Epoch 19/20\n",
      "9/9 [==============================] - 0s 33ms/step - loss: 0.3691 - accuracy: 0.8913 - recall_m: 1.0000 - precision_m: 0.4979 - f1_m: 0.6591 - val_loss: 0.6151 - val_accuracy: 0.6667 - val_recall_m: 1.0000 - val_precision_m: 0.4771 - val_f1_m: 0.6433\n",
      "\n",
      "Epoch 00019: val_loss did not improve from 0.52849\n",
      "Epoch 20/20\n",
      "9/9 [==============================] - 0s 31ms/step - loss: 0.3335 - accuracy: 0.8786 - recall_m: 1.0000 - precision_m: 0.5284 - f1_m: 0.6873 - val_loss: 0.7050 - val_accuracy: 0.6577 - val_recall_m: 1.0000 - val_precision_m: 0.4771 - val_f1_m: 0.6433\n",
      "\n",
      "Epoch 00020: val_loss did not improve from 0.52849\n",
      "3/3 [==============================] - 0s 9ms/step - loss: 0.5678 - accuracy: 0.7312 - recall_m: 1.0000 - precision_m: 0.6027 - f1_m: 0.7517\n",
      "Test accuracy: 73.12%\n",
      "Test recall: 100.0%\n",
      "Test precision: 60.27%\n",
      "Test F1: 75.17%\n"
     ]
    },
    {
     "name": "stderr",
     "output_type": "stream",
     "text": [
      "WARNING:absl:Found untraced functions such as gru_cell_layer_call_fn, gru_cell_layer_call_and_return_conditional_losses, gru_cell_1_layer_call_fn, gru_cell_1_layer_call_and_return_conditional_losses, gru_cell_layer_call_fn while saving (showing 5 of 10). These functions will not be directly callable after loading.\n",
      "WARNING:absl:Found untraced functions such as gru_cell_layer_call_fn, gru_cell_layer_call_and_return_conditional_losses, gru_cell_1_layer_call_fn, gru_cell_1_layer_call_and_return_conditional_losses, gru_cell_layer_call_fn while saving (showing 5 of 10). These functions will not be directly callable after loading.\n"
     ]
    },
    {
     "name": "stdout",
     "output_type": "stream",
     "text": [
      "INFO:tensorflow:Assets written to: cnn_rnn_model\\assets\n"
     ]
    },
    {
     "name": "stderr",
     "output_type": "stream",
     "text": [
      "INFO:tensorflow:Assets written to: cnn_rnn_model\\assets\n"
     ]
    }
   ],
   "source": [
    "# Utility for our sequence model.\n",
    "def get_sequence_model():\n",
    "    frame_features_input = keras.Input((MAX_SEQ_LENGTH, NUM_FEATURES))\n",
    "    mask_input = keras.Input((MAX_SEQ_LENGTH,), dtype=\"bool\")\n",
    "\n",
    "    # Refer to the following tutorial to understand the significance of using `mask`:\n",
    "    # https://keras.io/api/layers/recurrent_layers/gru/\n",
    "    x = keras.layers.GRU(16, return_sequences=True)(\n",
    "        frame_features_input, mask=mask_input\n",
    "    )\n",
    "    x = keras.layers.GRU(8)(x)\n",
    "    x = keras.layers.Dropout(0.4)(x)\n",
    "    x = keras.layers.Dense(8, activation=\"relu\")(x)\n",
    "    output = keras.layers.Dense(2, activation=\"softmax\")(x)\n",
    "\n",
    "    rnn_model = keras.Model([frame_features_input, mask_input], output)\n",
    "\n",
    "    rnn_model.compile(\n",
    "        loss=\"sparse_categorical_crossentropy\", optimizer=\"adam\", metrics=[\"accuracy\", recall_m, precision_m, f1_m]\n",
    "    )\n",
    "    return rnn_model\n",
    "\n",
    "\n",
    "# Utility for running experiments.\n",
    "def run_experiment():\n",
    "    filepath = \"./tmp/video_classifier\"\n",
    "    checkpoint = keras.callbacks.ModelCheckpoint(\n",
    "        filepath, save_weights_only=True, save_best_only=True, verbose=1\n",
    "    )\n",
    "\n",
    "    seq_model = get_sequence_model()\n",
    "    history = seq_model.fit(\n",
    "        [X_train_features, X_train_masks],\n",
    "        y_train,\n",
    "        validation_split=0.3,\n",
    "        epochs=EPOCHS,\n",
    "        callbacks=[checkpoint],\n",
    "    )\n",
    "\n",
    "    seq_model.load_weights(filepath)\n",
    "    _, accuracy, recall, prec, f1 = seq_model.evaluate([X_test_features, X_test_masks], y_test)\n",
    "\n",
    "    print(f\"Test accuracy: {round(accuracy * 100, 2)}%\")\n",
    "    print(f\"Test recall: {round(recall * 100, 2)}%\")\n",
    "    print(f\"Test precision: {round(prec * 100, 2)}%\")\n",
    "    print(f\"Test F1: {round(f1 * 100, 2)}%\")\n",
    "    cnn_rnn_scores = [accuracy, recall, prec, f1]\n",
    "\n",
    "\n",
    "    return history, seq_model, cnn_rnn_scores\n",
    "\n",
    "\n",
    "_, sequence_model, cnn_rnn_scores = run_experiment()\n",
    "\n",
    "sequence_model.save('cnn_rnn_model')"
   ]
  },
  {
   "cell_type": "code",
   "execution_count": 25,
   "metadata": {},
   "outputs": [
    {
     "data": {
      "image/png": "[encoded data removed]",
      "text/plain": [
       "<Figure size 432x288 with 2 Axes>"
      ]
     },
     "metadata": {
      "needs_background": "light"
     },
     "output_type": "display_data"
    }
   ],
   "source": [
    "y_preds = np.argmax(sequence_model.predict([X_test_features, X_test_masks]), axis=1)\n",
    "\n",
    "#Generate the confusion matrix\n",
    "cf_matrix = confusion_matrix(y_test, y_preds)\n",
    "\n",
    "ax = sns.heatmap(cf_matrix, annot=True, cmap='Blues')\n",
    "\n",
    "ax.set_title('Seaborn Confusion Matrix with labels\\n\\n');\n",
    "ax.set_xlabel('\\nPredicted Values')\n",
    "ax.set_ylabel('Actual Values ');\n",
    "\n",
    "ax.xaxis.set_ticklabels(['False','True'])\n",
    "ax.yaxis.set_ticklabels(['False','True'])\n",
    "\n",
    "plt.show()\n",
    "ax.figure.savefig(\"cnn_rnn_cf.png\") "
   ]
  },
  {
   "cell_type": "markdown",
   "metadata": {},
   "source": [
    "sonuçları karşılaştır"
   ]
  },
  {
   "cell_type": "code",
   "execution_count": 26,
   "metadata": {},
   "outputs": [
    {
     "data": {
      "text/html": [
       "<div>\n",
       "<style scoped>\n",
       "    .dataframe tbody tr th:only-of-type {\n",
       "        vertical-align: middle;\n",
       "    }\n",
       "\n",
       "    .dataframe tbody tr th {\n",
       "        vertical-align: top;\n",
       "    }\n",
       "\n",
       "    .dataframe thead th {\n",
       "        text-align: right;\n",
       "    }\n",
       "</style>\n",
       "<table border=\"1\" class=\"dataframe\">\n",
       "  <thead>\n",
       "    <tr style=\"text-align: right;\">\n",
       "      <th></th>\n",
       "      <th>Accuracy</th>\n",
       "      <th>Recall</th>\n",
       "      <th>Precision</th>\n",
       "      <th>F1</th>\n",
       "    </tr>\n",
       "  </thead>\n",
       "  <tbody>\n",
       "    <tr>\n",
       "      <th>ViViT</th>\n",
       "      <td>0.634409</td>\n",
       "      <td>0.958333</td>\n",
       "      <td>0.614583</td>\n",
       "      <td>0.730952</td>\n",
       "    </tr>\n",
       "    <tr>\n",
       "      <th>CNN-RNN</th>\n",
       "      <td>0.731183</td>\n",
       "      <td>1.000000</td>\n",
       "      <td>0.602730</td>\n",
       "      <td>0.751729</td>\n",
       "    </tr>\n",
       "  </tbody>\n",
       "</table>\n",
       "</div>"
      ],
      "text/plain": [
       "         Accuracy    Recall  Precision        F1\n",
       "ViViT    0.634409  0.958333   0.614583  0.730952\n",
       "CNN-RNN  0.731183  1.000000   0.602730  0.751729"
      ]
     },
     "execution_count": 26,
     "metadata": {},
     "output_type": "execute_result"
    }
   ],
   "source": [
    "df = pd.DataFrame([vivit_scores, cnn_rnn_scores])\n",
    "df.columns= ['Accuracy', 'Recall', 'Precision', 'F1']\n",
    "df.index = ['ViViT', 'CNN-RNN']\n",
    "\n",
    "df.head()"
   ]
  },
  {
   "cell_type": "markdown",
   "metadata": {},
   "source": [
    "grafikleri karşlıaştır"
   ]
  },
  {
   "cell_type": "code",
   "execution_count": 27,
   "metadata": {},
   "outputs": [
    {
     "name": "stdout",
     "output_type": "stream",
     "text": [
      "[0.6344085931777954, 0.9583333134651184, 0.6145833134651184, 0.7309524416923523]\n",
      "[0.7311828136444092, 1.0, 0.602729856967926, 0.7517293095588684]\n"
     ]
    },
    {
     "data": {
      "text/plain": [
       "Text(0.5, 1.0, 'CNN-RNN CLASSIFIER')"
      ]
     },
     "execution_count": 27,
     "metadata": {},
     "output_type": "execute_result"
    },
    {
     "data": {
      "image/png": "[encoded data removed]",
      "text/plain": [
       "<Figure size 1440x1440 with 2 Axes>"
      ]
     },
     "metadata": {
      "needs_background": "light"
     },
     "output_type": "display_data"
    }
   ],
   "source": [
    "print(vivit_scores)\n",
    "print(cnn_rnn_scores)\n",
    "\n",
    "im1 = plt.imread('vivit_cf.png')\n",
    "im2 = plt.imread('cnn_rnn_cf.png')\n",
    "\n",
    "f, axarr = plt.subplots(1,2, figsize=(20,20))\n",
    "axarr[0].imshow(im1)\n",
    "axarr[0].set_title('VIVIT CLASSIFIER')\n",
    "axarr[1].imshow(im2)\n",
    "axarr[1].set_title('CNN-RNN CLASSIFIER')"
   ]
  }
 ],
 "metadata": {
  "kernelspec": {
   "display_name": "base",
   "language": "python",
   "name": "python3"
  },
  "language_info": {
   "codemirror_mode": {
    "name": "ipython",
    "version": 3
   },
   "file_extension": ".py",
   "mimetype": "text/x-python",
   "name": "python",
   "nbconvert_exporter": "python",
   "pygments_lexer": "ipython3",
   "version": "3.8.8"
  }
 },
 "nbformat": 4,
 "nbformat_minor": 2
}
